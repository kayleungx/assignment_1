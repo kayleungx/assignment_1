{
 "cells": [
  {
   "cell_type": "code",
   "execution_count": 129,
   "id": "c3a72b74",
   "metadata": {
    "scrolled": true
   },
   "outputs": [
    {
     "name": "stdout",
     "output_type": "stream",
     "text": [
      "Enter number of hours spend on Python in week 1 5\n",
      "Enter number of hours spend on SQL in week 1 4\n",
      "Enter number of hours spend on Python Web in week 1 2\n",
      "Enter number of hours spend on Python in week 2 3\n",
      "Enter number of hours spend on SQL in week 2 6\n",
      "Enter number of hours spend on Python Web in week 2 2\n",
      "Enter number of hours spend on Python in week 3 2\n",
      "Enter number of hours spend on SQL in week 3 3\n",
      "Enter number of hours spend on Python Web in week 3 4\n",
      "Enter number of hours spend on Python in week 4 4\n",
      "Enter number of hours spend on SQL in week 4 5\n",
      "Enter number of hours spend on Python Web in week 4 6\n",
      "[{'week': 'week 1', 'Python': '5', 'SQL': '4', 'Python Web': '2'}, {'week': 'week 2', 'Python': '3', 'SQL': '6', 'Python Web': '2'}, {'week': 'week 3', 'Python': '2', 'SQL': '3', 'Python Web': '4'}, {'week': 'week 4', 'Python': '4', 'SQL': '5', 'Python Web': '6'}]\n"
     ]
    },
    {
     "data": {
      "text/html": [
       "<div>\n",
       "<style scoped>\n",
       "    .dataframe tbody tr th:only-of-type {\n",
       "        vertical-align: middle;\n",
       "    }\n",
       "\n",
       "    .dataframe tbody tr th {\n",
       "        vertical-align: top;\n",
       "    }\n",
       "\n",
       "    .dataframe thead th {\n",
       "        text-align: right;\n",
       "    }\n",
       "</style>\n",
       "<table border=\"1\" class=\"dataframe\">\n",
       "  <thead>\n",
       "    <tr style=\"text-align: right;\">\n",
       "      <th></th>\n",
       "      <th>week</th>\n",
       "      <th>Python</th>\n",
       "      <th>SQL</th>\n",
       "      <th>Python Web</th>\n",
       "    </tr>\n",
       "  </thead>\n",
       "  <tbody>\n",
       "    <tr>\n",
       "      <th>0</th>\n",
       "      <td>week 1</td>\n",
       "      <td>5</td>\n",
       "      <td>4</td>\n",
       "      <td>2</td>\n",
       "    </tr>\n",
       "    <tr>\n",
       "      <th>1</th>\n",
       "      <td>week 2</td>\n",
       "      <td>3</td>\n",
       "      <td>6</td>\n",
       "      <td>2</td>\n",
       "    </tr>\n",
       "    <tr>\n",
       "      <th>2</th>\n",
       "      <td>week 3</td>\n",
       "      <td>2</td>\n",
       "      <td>3</td>\n",
       "      <td>4</td>\n",
       "    </tr>\n",
       "    <tr>\n",
       "      <th>3</th>\n",
       "      <td>week 4</td>\n",
       "      <td>4</td>\n",
       "      <td>5</td>\n",
       "      <td>6</td>\n",
       "    </tr>\n",
       "  </tbody>\n",
       "</table>\n",
       "</div>"
      ],
      "text/plain": [
       "     week Python SQL Python Web\n",
       "0  week 1      5   4          2\n",
       "1  week 2      3   6          2\n",
       "2  week 3      2   3          4\n",
       "3  week 4      4   5          6"
      ]
     },
     "execution_count": 129,
     "metadata": {},
     "output_type": "execute_result"
    }
   ],
   "source": [
    "import pandas as pd\n",
    "weekly_process = []\n",
    "week_of_the_month = ['week 1','week 2','week 3','week 4']\n",
    "\n",
    "for i in week_of_the_month:\n",
    "    hr_python = input ('Enter number of hours spend on Python in ' + i +' ')\n",
    "    hr_sql = input ('Enter number of hours spend on SQL in ' + i + ' ')\n",
    "    hr_pythonweb = input ('Enter number of hours spend on Python Web in ' + i+ ' ')\n",
    "    weekly_process.append({'week':i, 'Python':hr_python, 'SQL':hr_sql, 'Python Web':hr_pythonweb})\n",
    "print(weekly_process)\n",
    "df = pd.DataFrame(weekly_process)\n",
    "df.to_csv ('weekly_process.csv', mode= 'w', index=False)\n",
    "df\n"
   ]
  },
  {
   "cell_type": "code",
   "execution_count": null,
   "id": "a2e76c4a",
   "metadata": {},
   "outputs": [],
   "source": []
  },
  {
   "cell_type": "code",
   "execution_count": 130,
   "id": "6e4fb912",
   "metadata": {
    "scrolled": false
   },
   "outputs": [
    {
     "name": "stdout",
     "output_type": "stream",
     "text": [
      "[5, 3, 2, 4]\n",
      "[4, 6, 3, 5]\n",
      "[2, 2, 4, 6]\n",
      "[3.0, 3.0, 3.0, 5.0]\n"
     ]
    }
   ],
   "source": [
    "df = pd.read_csv ('weekly_process.csv')\n",
    "df\n",
    "weekly_hr_spent = df.values.tolist()\n",
    "week_no =[]\n",
    "hr_python = []\n",
    "hr_sql = []\n",
    "hr_pythonweb = []\n",
    "weekly_avg_list=[]\n",
    "for i in weekly_hr_spent:\n",
    "    week_no.append (i[0])\n",
    "    hr_python.append(i[1])\n",
    "    hr_sql.append(i[2])\n",
    "    hr_pythonweb.append(i[3])\n",
    "    weekly_avg_list.append(sum(i[1:4])/len(i[1:4])//1)\n",
    "print(hr_python)\n",
    "print(hr_sql)\n",
    "print(hr_pythonweb)\n",
    "print(weekly_avg_list)"
   ]
  },
  {
   "cell_type": "code",
   "execution_count": 135,
   "id": "f4504077",
   "metadata": {},
   "outputs": [
    {
     "data": {
      "image/png": "[encoded data removed]",
      "text/plain": [
       "<Figure size 432x288 with 1 Axes>"
      ]
     },
     "metadata": {
      "needs_background": "light"
     },
     "output_type": "display_data"
    }
   ],
   "source": [
    "from matplotlib import pyplot as plt\n",
    "plt.plot (week_no,hr_python,color='red',marker='o')\n",
    "plt.plot (week_no,hr_sql,color='green',marker='o')\n",
    "plt.plot(week_no,hr_pythonweb,color='yellow',marker='o')\n",
    "plt.plot(week_no,weekly_avg_list,color='blue',linestyle='--')\n",
    "plt.legend(['Python','SQL','PythonWeb','Average hours'], loc='lower right')\n",
    "plt.xlabel(\"Week\")\n",
    "plt.ylabel(\"Hours\")\n",
    "plt.title(\"Weekly hours spent on different tasks\")\n",
    "plt.show()"
   ]
  },
  {
   "cell_type": "code",
   "execution_count": null,
   "id": "4cda9797",
   "metadata": {},
   "outputs": [],
   "source": []
  }
 ],
 "metadata": {
  "kernelspec": {
   "display_name": "Python 3",
   "language": "python",
   "name": "python3"
  },
  "language_info": {
   "codemirror_mode": {
    "name": "ipython",
    "version": 3
   },
   "file_extension": ".py",
   "mimetype": "text/x-python",
   "name": "python",
   "nbconvert_exporter": "python",
   "pygments_lexer": "ipython3",
   "version": "3.8.8"
  }
 },
 "nbformat": 4,
 "nbformat_minor": 5
}
